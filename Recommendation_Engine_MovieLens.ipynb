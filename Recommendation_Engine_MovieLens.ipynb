{
  "cells": [
    {
      "cell_type": "markdown",
      "metadata": {
        "id": "HyOBPsGi1N6U"
      },
      "source": [
        "### Import libraries"
      ]
    },
    {
      "cell_type": "code",
      "execution_count": 10,
      "metadata": {
        "id": "1H7nal_X1N6X"
      },
      "outputs": [],
      "source": [
        "#https://grouplens.org/datasets/movielens/"
      ]
    },
    {
      "cell_type": "code",
      "source": [
        "!pip install pyspark"
      ],
      "metadata": {
        "colab": {
          "base_uri": "https://localhost:8080/"
        },
        "id": "HaZ5jVHy1aqs",
        "outputId": "d05148b1-696c-4d80-8656-9d9b14d1eef1"
      },
      "execution_count": 11,
      "outputs": [
        {
          "output_type": "stream",
          "name": "stdout",
          "text": [
            "Requirement already satisfied: pyspark in /usr/local/lib/python3.10/dist-packages (3.5.1)\n",
            "Requirement already satisfied: py4j==0.10.9.7 in /usr/local/lib/python3.10/dist-packages (from pyspark) (0.10.9.7)\n"
          ]
        }
      ]
    },
    {
      "cell_type": "code",
      "execution_count": 12,
      "metadata": {
        "id": "jx8lQmOS1N6Y"
      },
      "outputs": [],
      "source": [
        "import pandas as pd\n",
        "from pyspark.sql.functions import col, explode\n",
        "from pyspark import SparkContext"
      ]
    },
    {
      "cell_type": "markdown",
      "metadata": {
        "id": "zDV9S-EC1N6Z"
      },
      "source": [
        "### Initiate spark session"
      ]
    },
    {
      "cell_type": "code",
      "execution_count": 13,
      "metadata": {
        "id": "bgzoEz1f1N6Z"
      },
      "outputs": [],
      "source": [
        "from pyspark.sql import SparkSession\n",
        "sc = SparkContext\n",
        "# sc.setCheckpointDir('checkpoint')\n",
        "spark = SparkSession.builder.appName('Recommendations').getOrCreate()"
      ]
    },
    {
      "cell_type": "markdown",
      "metadata": {
        "id": "duliJwyl1N6a"
      },
      "source": [
        "# 1. Load data"
      ]
    },
    {
      "cell_type": "code",
      "execution_count": 14,
      "metadata": {
        "id": "z4YTEI7_1N6a"
      },
      "outputs": [],
      "source": [
        "movies = spark.read.csv(\"movies.csv\",header=True)\n",
        "ratings = spark.read.csv(\"ratings.csv\",header=True)"
      ]
    },
    {
      "cell_type": "code",
      "execution_count": 15,
      "metadata": {
        "colab": {
          "base_uri": "https://localhost:8080/"
        },
        "id": "8P-h13eE1N6a",
        "outputId": "d9971aad-b2d2-4faf-f123-8b14690b35e4"
      },
      "outputs": [
        {
          "output_type": "stream",
          "name": "stdout",
          "text": [
            "+------+-------+------+---------+\n",
            "|userId|movieId|rating|timestamp|\n",
            "+------+-------+------+---------+\n",
            "|     1|      1|   4.0|964982703|\n",
            "|     1|      3|   4.0|964981247|\n",
            "|     1|      6|   4.0|964982224|\n",
            "|     1|     47|   5.0|964983815|\n",
            "|     1|     50|   5.0|964982931|\n",
            "|     1|     70|   3.0|964982400|\n",
            "|     1|    101|   5.0|964980868|\n",
            "|     1|    110|   4.0|964982176|\n",
            "|     1|    151|   5.0|964984041|\n",
            "|     1|    157|   5.0|964984100|\n",
            "|     1|    163|   5.0|964983650|\n",
            "|     1|    216|   5.0|964981208|\n",
            "|     1|    223|   3.0|964980985|\n",
            "|     1|    231|   5.0|964981179|\n",
            "|     1|    235|   4.0|964980908|\n",
            "|     1|    260|   5.0|964981680|\n",
            "|     1|    296|   3.0|964982967|\n",
            "|     1|    316|   3.0|964982310|\n",
            "|     1|    333|   5.0|964981179|\n",
            "|     1|    349|   4.0|964982563|\n",
            "+------+-------+------+---------+\n",
            "only showing top 20 rows\n",
            "\n"
          ]
        }
      ],
      "source": [
        "ratings.show()"
      ]
    },
    {
      "cell_type": "code",
      "execution_count": 16,
      "metadata": {
        "colab": {
          "base_uri": "https://localhost:8080/"
        },
        "id": "baRSnQjR1N6c",
        "outputId": "45870c59-6ff2-4944-8640-d912df79f113"
      },
      "outputs": [
        {
          "output_type": "stream",
          "name": "stdout",
          "text": [
            "root\n",
            " |-- userId: string (nullable = true)\n",
            " |-- movieId: string (nullable = true)\n",
            " |-- rating: string (nullable = true)\n",
            " |-- timestamp: string (nullable = true)\n",
            "\n"
          ]
        }
      ],
      "source": [
        "ratings.printSchema()"
      ]
    },
    {
      "cell_type": "code",
      "execution_count": 17,
      "metadata": {
        "colab": {
          "base_uri": "https://localhost:8080/"
        },
        "id": "hNIHHUoN1N6c",
        "outputId": "d8b8f7ad-dc49-487a-edc4-cc548627a7fc"
      },
      "outputs": [
        {
          "output_type": "stream",
          "name": "stdout",
          "text": [
            "+------+-------+------+\n",
            "|userId|movieId|rating|\n",
            "+------+-------+------+\n",
            "|     1|      1|   4.0|\n",
            "|     1|      3|   4.0|\n",
            "|     1|      6|   4.0|\n",
            "|     1|     47|   5.0|\n",
            "|     1|     50|   5.0|\n",
            "|     1|     70|   3.0|\n",
            "|     1|    101|   5.0|\n",
            "|     1|    110|   4.0|\n",
            "|     1|    151|   5.0|\n",
            "|     1|    157|   5.0|\n",
            "|     1|    163|   5.0|\n",
            "|     1|    216|   5.0|\n",
            "|     1|    223|   3.0|\n",
            "|     1|    231|   5.0|\n",
            "|     1|    235|   4.0|\n",
            "|     1|    260|   5.0|\n",
            "|     1|    296|   3.0|\n",
            "|     1|    316|   3.0|\n",
            "|     1|    333|   5.0|\n",
            "|     1|    349|   4.0|\n",
            "+------+-------+------+\n",
            "only showing top 20 rows\n",
            "\n"
          ]
        }
      ],
      "source": [
        "ratings = ratings.\\\n",
        "    withColumn('userId', col('userId').cast('integer')).\\\n",
        "    withColumn('movieId', col('movieId').cast('integer')).\\\n",
        "    withColumn('rating', col('rating').cast('float')).\\\n",
        "    drop('timestamp')\n",
        "ratings.show()"
      ]
    },
    {
      "cell_type": "markdown",
      "metadata": {
        "id": "8_tSNlOp1N6d"
      },
      "source": [
        "## Calculate sparsity"
      ]
    },
    {
      "cell_type": "code",
      "execution_count": 18,
      "metadata": {
        "colab": {
          "base_uri": "https://localhost:8080/"
        },
        "id": "aOGQmcn-1N6e",
        "outputId": "b3028221-0afd-40a8-d002-ad47aabc870b"
      },
      "outputs": [
        {
          "output_type": "stream",
          "name": "stdout",
          "text": [
            "The ratings dataframe is  98.30% empty.\n"
          ]
        }
      ],
      "source": [
        "# Count the total number of ratings in the dataset\n",
        "numerator = ratings.select(\"rating\").count()\n",
        "\n",
        "# Count the number of distinct userIds and distinct movieIds\n",
        "num_users = ratings.select(\"userId\").distinct().count()\n",
        "num_movies = ratings.select(\"movieId\").distinct().count()\n",
        "\n",
        "# Set the denominator equal to the number of users multiplied by the number of movies\n",
        "denominator = num_users * num_movies\n",
        "\n",
        "# Divide the numerator by the denominator\n",
        "sparsity = (1.0 - (numerator *1.0)/denominator)*100\n",
        "print(\"The ratings dataframe is \", \"%.2f\" % sparsity + \"% empty.\")"
      ]
    },
    {
      "cell_type": "markdown",
      "metadata": {
        "id": "j6XW0Bdd1N6e"
      },
      "source": [
        "## Interpret ratings"
      ]
    },
    {
      "cell_type": "code",
      "execution_count": 19,
      "metadata": {
        "colab": {
          "base_uri": "https://localhost:8080/"
        },
        "id": "H7pKHAac1N6f",
        "outputId": "660f0308-3fbc-4e1e-8ac9-fbebd137731a"
      },
      "outputs": [
        {
          "output_type": "stream",
          "name": "stdout",
          "text": [
            "+------+-----+\n",
            "|userId|count|\n",
            "+------+-----+\n",
            "|   414| 2698|\n",
            "|   599| 2478|\n",
            "|   474| 2108|\n",
            "|   448| 1864|\n",
            "|   274| 1346|\n",
            "|   610| 1302|\n",
            "|    68| 1260|\n",
            "|   380| 1218|\n",
            "|   606| 1115|\n",
            "|   288| 1055|\n",
            "|   249| 1046|\n",
            "|   387| 1027|\n",
            "|   182|  977|\n",
            "|   307|  975|\n",
            "|   603|  943|\n",
            "|   298|  939|\n",
            "|   177|  904|\n",
            "|   318|  879|\n",
            "|   232|  862|\n",
            "|   480|  836|\n",
            "+------+-----+\n",
            "only showing top 20 rows\n",
            "\n"
          ]
        }
      ],
      "source": [
        "# Group data by userId, count ratings\n",
        "userId_ratings = ratings.groupBy(\"userId\").count().orderBy('count', ascending=False)\n",
        "userId_ratings.show()"
      ]
    },
    {
      "cell_type": "code",
      "execution_count": 20,
      "metadata": {
        "colab": {
          "base_uri": "https://localhost:8080/"
        },
        "id": "0xB6-6gF1N6f",
        "outputId": "e7779709-f9b3-4f1c-f397-2684afa66056"
      },
      "outputs": [
        {
          "output_type": "stream",
          "name": "stdout",
          "text": [
            "+-------+-----+\n",
            "|movieId|count|\n",
            "+-------+-----+\n",
            "|    356|  329|\n",
            "|    318|  317|\n",
            "|    296|  307|\n",
            "|    593|  279|\n",
            "|   2571|  278|\n",
            "|    260|  251|\n",
            "|    480|  238|\n",
            "|    110|  237|\n",
            "|    589|  224|\n",
            "|    527|  220|\n",
            "|   2959|  218|\n",
            "|      1|  215|\n",
            "|   1196|  211|\n",
            "|     50|  204|\n",
            "|   2858|  204|\n",
            "|     47|  203|\n",
            "|    780|  202|\n",
            "|    150|  201|\n",
            "|   1198|  200|\n",
            "|   4993|  198|\n",
            "+-------+-----+\n",
            "only showing top 20 rows\n",
            "\n"
          ]
        }
      ],
      "source": [
        "# Group data by userId, count ratings\n",
        "movieId_ratings = ratings.groupBy(\"movieId\").count().orderBy('count', ascending=False)\n",
        "movieId_ratings.show()"
      ]
    },
    {
      "cell_type": "markdown",
      "metadata": {
        "id": "qXrbhuwk1N6g"
      },
      "source": [
        "## Build Out An ALS Model"
      ]
    },
    {
      "cell_type": "code",
      "execution_count": 21,
      "metadata": {
        "id": "pRhXVKB_1N6g"
      },
      "outputs": [],
      "source": [
        "# Import the required functions\n",
        "from pyspark.ml.evaluation import RegressionEvaluator\n",
        "from pyspark.ml.recommendation import ALS\n",
        "from pyspark.ml.tuning import ParamGridBuilder, CrossValidator"
      ]
    },
    {
      "cell_type": "code",
      "execution_count": 22,
      "metadata": {
        "colab": {
          "base_uri": "https://localhost:8080/",
          "height": 256
        },
        "id": "_-LAR2cp1N6g",
        "outputId": "a3c08a7c-5d9b-417b-c58d-bafc2763bd5a"
      },
      "outputs": [
        {
          "output_type": "execute_result",
          "data": {
            "text/plain": [
              "pyspark.ml.recommendation.ALS"
            ],
            "text/html": [
              "<div style=\"max-width:800px; border: 1px solid var(--colab-border-color);\"><style>\n",
              "      pre.function-repr-contents {\n",
              "        overflow-x: auto;\n",
              "        padding: 8px 12px;\n",
              "        max-height: 500px;\n",
              "      }\n",
              "\n",
              "      pre.function-repr-contents.function-repr-contents-collapsed {\n",
              "        cursor: pointer;\n",
              "        max-height: 100px;\n",
              "      }\n",
              "    </style>\n",
              "    <pre style=\"white-space: initial; background:\n",
              "         var(--colab-secondary-surface-color); padding: 8px 12px;\n",
              "         border-bottom: 1px solid var(--colab-border-color);\"><b>pyspark.ml.recommendation.ALS</b><br/>def __init__(*, rank: int=10, maxIter: int=10, regParam: float=0.1, numUserBlocks: int=10, numItemBlocks: int=10, implicitPrefs: bool=False, alpha: float=1.0, userCol: str=&#x27;user&#x27;, itemCol: str=&#x27;item&#x27;, seed: Optional[int]=None, ratingCol: str=&#x27;rating&#x27;, nonnegative: bool=False, checkpointInterval: int=10, intermediateStorageLevel: str=&#x27;MEMORY_AND_DISK&#x27;, finalStorageLevel: str=&#x27;MEMORY_AND_DISK&#x27;, coldStartStrategy: str=&#x27;nan&#x27;, blockSize: int=4096)</pre><pre class=\"function-repr-contents function-repr-contents-collapsed\" style=\"\"><a class=\"filepath\" style=\"display:none\" href=\"#\">/usr/local/lib/python3.10/dist-packages/pyspark/ml/recommendation.py</a>Alternating Least Squares (ALS) matrix factorization.\n",
              "\n",
              "ALS attempts to estimate the ratings matrix `R` as the product of\n",
              "two lower-rank matrices, `X` and `Y`, i.e. `X * Yt = R`. Typically\n",
              "these approximations are called &#x27;factor&#x27; matrices. The general\n",
              "approach is iterative. During each iteration, one of the factor\n",
              "matrices is held constant, while the other is solved for using least\n",
              "squares. The newly-solved factor matrix is then held constant while\n",
              "solving for the other factor matrix.\n",
              "\n",
              "This is a blocked implementation of the ALS factorization algorithm\n",
              "that groups the two sets of factors (referred to as &quot;users&quot; and\n",
              "&quot;products&quot;) into blocks and reduces communication by only sending\n",
              "one copy of each user vector to each product block on each\n",
              "iteration, and only for the product blocks that need that user&#x27;s\n",
              "feature vector. This is achieved by pre-computing some information\n",
              "about the ratings matrix to determine the &quot;out-links&quot; of each user\n",
              "(which blocks of products it will contribute to) and &quot;in-link&quot;\n",
              "information for each product (which of the feature vectors it\n",
              "receives from each user block it will depend on). This allows us to\n",
              "send only an array of feature vectors between each user block and\n",
              "product block, and have the product block find the users&#x27; ratings\n",
              "and update the products based on these messages.\n",
              "\n",
              "For implicit preference data, the algorithm used is based on\n",
              "`&quot;Collaborative Filtering for Implicit Feedback Datasets&quot;,\n",
              "&lt;https://doi.org/10.1109/ICDM.2008.22&gt;`_, adapted for the blocked\n",
              "approach used here.\n",
              "\n",
              "Essentially instead of finding the low-rank approximations to the\n",
              "rating matrix `R`, this finds the approximations for a preference\n",
              "matrix `P` where the elements of `P` are 1 if r &gt; 0 and 0 if r &lt;= 0.\n",
              "The ratings then act as &#x27;confidence&#x27; values related to strength of\n",
              "indicated user preferences rather than explicit ratings given to\n",
              "items.\n",
              "\n",
              ".. versionadded:: 1.4.0\n",
              "\n",
              "Notes\n",
              "-----\n",
              "The input rating dataframe to the ALS implementation should be deterministic.\n",
              "Nondeterministic data can cause failure during fitting ALS model.\n",
              "For example, an order-sensitive operation like sampling after a repartition makes\n",
              "dataframe output nondeterministic, like `df.repartition(2).sample(False, 0.5, 1618)`.\n",
              "Checkpointing sampled dataframe or adding a sort before sampling can help make the\n",
              "dataframe deterministic.\n",
              "\n",
              "Examples\n",
              "--------\n",
              "&gt;&gt;&gt; df = spark.createDataFrame(\n",
              "...     [(0, 0, 4.0), (0, 1, 2.0), (1, 1, 3.0), (1, 2, 4.0), (2, 1, 1.0), (2, 2, 5.0)],\n",
              "...     [&quot;user&quot;, &quot;item&quot;, &quot;rating&quot;])\n",
              "&gt;&gt;&gt; als = ALS(rank=10, seed=0)\n",
              "&gt;&gt;&gt; als.setMaxIter(5)\n",
              "ALS...\n",
              "&gt;&gt;&gt; als.getMaxIter()\n",
              "5\n",
              "&gt;&gt;&gt; als.setRegParam(0.1)\n",
              "ALS...\n",
              "&gt;&gt;&gt; als.getRegParam()\n",
              "0.1\n",
              "&gt;&gt;&gt; als.clear(als.regParam)\n",
              "&gt;&gt;&gt; model = als.fit(df)\n",
              "&gt;&gt;&gt; model.getBlockSize()\n",
              "4096\n",
              "&gt;&gt;&gt; model.getUserCol()\n",
              "&#x27;user&#x27;\n",
              "&gt;&gt;&gt; model.setUserCol(&quot;user&quot;)\n",
              "ALSModel...\n",
              "&gt;&gt;&gt; model.getItemCol()\n",
              "&#x27;item&#x27;\n",
              "&gt;&gt;&gt; model.setPredictionCol(&quot;newPrediction&quot;)\n",
              "ALS...\n",
              "&gt;&gt;&gt; model.rank\n",
              "10\n",
              "&gt;&gt;&gt; model.userFactors.orderBy(&quot;id&quot;).collect()\n",
              "[Row(id=0, features=[...]), Row(id=1, ...), Row(id=2, ...)]\n",
              "&gt;&gt;&gt; test = spark.createDataFrame([(0, 2), (1, 0), (2, 0)], [&quot;user&quot;, &quot;item&quot;])\n",
              "&gt;&gt;&gt; predictions = sorted(model.transform(test).collect(), key=lambda r: r[0])\n",
              "&gt;&gt;&gt; predictions[0]\n",
              "Row(user=0, item=2, newPrediction=0.6929...)\n",
              "&gt;&gt;&gt; predictions[1]\n",
              "Row(user=1, item=0, newPrediction=3.47356...)\n",
              "&gt;&gt;&gt; predictions[2]\n",
              "Row(user=2, item=0, newPrediction=-0.899198...)\n",
              "&gt;&gt;&gt; user_recs = model.recommendForAllUsers(3)\n",
              "&gt;&gt;&gt; user_recs.where(user_recs.user == 0)        .select(&quot;recommendations.item&quot;, &quot;recommendations.rating&quot;).collect()\n",
              "[Row(item=[0, 1, 2], rating=[3.910..., 1.997..., 0.692...])]\n",
              "&gt;&gt;&gt; item_recs = model.recommendForAllItems(3)\n",
              "&gt;&gt;&gt; item_recs.where(item_recs.item == 2)        .select(&quot;recommendations.user&quot;, &quot;recommendations.rating&quot;).collect()\n",
              "[Row(user=[2, 1, 0], rating=[4.892..., 3.991..., 0.692...])]\n",
              "&gt;&gt;&gt; user_subset = df.where(df.user == 2)\n",
              "&gt;&gt;&gt; user_subset_recs = model.recommendForUserSubset(user_subset, 3)\n",
              "&gt;&gt;&gt; user_subset_recs.select(&quot;recommendations.item&quot;, &quot;recommendations.rating&quot;).first()\n",
              "Row(item=[2, 1, 0], rating=[4.892..., 1.076..., -0.899...])\n",
              "&gt;&gt;&gt; item_subset = df.where(df.item == 0)\n",
              "&gt;&gt;&gt; item_subset_recs = model.recommendForItemSubset(item_subset, 3)\n",
              "&gt;&gt;&gt; item_subset_recs.select(&quot;recommendations.user&quot;, &quot;recommendations.rating&quot;).first()\n",
              "Row(user=[0, 1, 2], rating=[3.910..., 3.473..., -0.899...])\n",
              "&gt;&gt;&gt; als_path = temp_path + &quot;/als&quot;\n",
              "&gt;&gt;&gt; als.save(als_path)\n",
              "&gt;&gt;&gt; als2 = ALS.load(als_path)\n",
              "&gt;&gt;&gt; als.getMaxIter()\n",
              "5\n",
              "&gt;&gt;&gt; model_path = temp_path + &quot;/als_model&quot;\n",
              "&gt;&gt;&gt; model.save(model_path)\n",
              "&gt;&gt;&gt; model2 = ALSModel.load(model_path)\n",
              "&gt;&gt;&gt; model.rank == model2.rank\n",
              "True\n",
              "&gt;&gt;&gt; sorted(model.userFactors.collect()) == sorted(model2.userFactors.collect())\n",
              "True\n",
              "&gt;&gt;&gt; sorted(model.itemFactors.collect()) == sorted(model2.itemFactors.collect())\n",
              "True\n",
              "&gt;&gt;&gt; model.transform(test).take(1) == model2.transform(test).take(1)\n",
              "True</pre>\n",
              "      <script>\n",
              "      if (google.colab.kernel.accessAllowed && google.colab.files && google.colab.files.view) {\n",
              "        for (const element of document.querySelectorAll('.filepath')) {\n",
              "          element.style.display = 'block'\n",
              "          element.onclick = (event) => {\n",
              "            event.preventDefault();\n",
              "            event.stopPropagation();\n",
              "            google.colab.files.view(element.textContent, 245);\n",
              "          };\n",
              "        }\n",
              "      }\n",
              "      for (const element of document.querySelectorAll('.function-repr-contents')) {\n",
              "        element.onclick = (event) => {\n",
              "          event.preventDefault();\n",
              "          event.stopPropagation();\n",
              "          element.classList.toggle('function-repr-contents-collapsed');\n",
              "        };\n",
              "      }\n",
              "      </script>\n",
              "      </div>"
            ]
          },
          "metadata": {},
          "execution_count": 22
        }
      ],
      "source": [
        "# Create test and train set\n",
        "(train, test) = ratings.randomSplit([0.8, 0.2], seed = 1234)\n",
        "\n",
        "# Create ALS model\n",
        "als = ALS(userCol=\"userId\", itemCol=\"movieId\", ratingCol=\"rating\", nonnegative = True, implicitPrefs = False, coldStartStrategy=\"drop\")\n",
        "\n",
        "# Confirm that a model called \"als\" was created\n",
        "type(als)"
      ]
    },
    {
      "cell_type": "markdown",
      "metadata": {
        "id": "LXRz9vr51N6h"
      },
      "source": [
        "## Tell Spark how to tune your ALS model"
      ]
    },
    {
      "cell_type": "code",
      "execution_count": 23,
      "metadata": {
        "colab": {
          "base_uri": "https://localhost:8080/"
        },
        "id": "zgInRLek1N6h",
        "outputId": "7bc583ec-9cd5-402d-83db-4e3729a369d4"
      },
      "outputs": [
        {
          "output_type": "stream",
          "name": "stdout",
          "text": [
            "Num models to be tested:  16\n"
          ]
        }
      ],
      "source": [
        "# Import the requisite items\n",
        "from pyspark.ml.evaluation import RegressionEvaluator\n",
        "from pyspark.ml.tuning import ParamGridBuilder, CrossValidator\n",
        "\n",
        "# Add hyperparameters and their respective values to param_grid\n",
        "param_grid = ParamGridBuilder() \\\n",
        "            .addGrid(als.rank, [10, 50, 100, 150]) \\\n",
        "            .addGrid(als.regParam, [.01, .05, .1, .15]) \\\n",
        "            .build()\n",
        "            #             .addGrid(als.maxIter, [5, 50, 100, 200]) \\\n",
        "\n",
        "\n",
        "# Define evaluator as RMSE and print length of evaluator\n",
        "evaluator = RegressionEvaluator(metricName=\"rmse\", labelCol=\"rating\", predictionCol=\"prediction\")\n",
        "print (\"Num models to be tested: \", len(param_grid))"
      ]
    },
    {
      "cell_type": "markdown",
      "metadata": {
        "id": "GOArAupL1N6i"
      },
      "source": [
        "## Build your cross validation pipeline"
      ]
    },
    {
      "cell_type": "code",
      "execution_count": 24,
      "metadata": {
        "colab": {
          "base_uri": "https://localhost:8080/"
        },
        "id": "i3lnDzfJ1N6i",
        "outputId": "9f34c873-65a3-4f58-f9fc-1e8b2818d690"
      },
      "outputs": [
        {
          "output_type": "stream",
          "name": "stdout",
          "text": [
            "CrossValidator_faa6437d8155\n"
          ]
        }
      ],
      "source": [
        "# Build cross validation using CrossValidator\n",
        "cv = CrossValidator(estimator=als, estimatorParamMaps=param_grid, evaluator=evaluator, numFolds=5)\n",
        "\n",
        "# Confirm cv was built\n",
        "print(cv)"
      ]
    },
    {
      "cell_type": "markdown",
      "metadata": {
        "id": "B62NmmjH1N6i"
      },
      "source": [
        "## Best Model and Best Model Parameters"
      ]
    },
    {
      "cell_type": "code",
      "execution_count": 25,
      "metadata": {
        "id": "PbkSeffR1N6i"
      },
      "outputs": [],
      "source": [
        "#Fit cross validator to the 'train' dataset\n",
        "model = cv.fit(train)\n",
        "\n",
        "#Extract best model from the cv model above\n",
        "best_model = model.bestModel"
      ]
    },
    {
      "cell_type": "code",
      "execution_count": 26,
      "metadata": {
        "colab": {
          "base_uri": "https://localhost:8080/"
        },
        "id": "wXcXMhSr1N6i",
        "outputId": "26734b52-c809-4f07-b27b-d1cfc392b2e6"
      },
      "outputs": [
        {
          "output_type": "stream",
          "name": "stdout",
          "text": [
            "<class 'pyspark.ml.recommendation.ALSModel'>\n",
            "**Best Model**\n",
            "  Rank: 50\n",
            "  MaxIter: 10\n",
            "  RegParam: 0.15\n"
          ]
        }
      ],
      "source": [
        "\n",
        "# Print best_model\n",
        "print(type(best_model))\n",
        "\n",
        "# Complete the code below to extract the ALS model parameters\n",
        "print(\"**Best Model**\")\n",
        "\n",
        "# # Print \"Rank\"\n",
        "print(\"  Rank:\", best_model._java_obj.parent().getRank())\n",
        "\n",
        "# Print \"MaxIter\"\n",
        "print(\"  MaxIter:\", best_model._java_obj.parent().getMaxIter())\n",
        "\n",
        "# Print \"RegParam\"\n",
        "print(\"  RegParam:\", best_model._java_obj.parent().getRegParam())"
      ]
    },
    {
      "cell_type": "code",
      "execution_count": 27,
      "metadata": {
        "scrolled": true,
        "colab": {
          "base_uri": "https://localhost:8080/"
        },
        "id": "kgRrAsaW1N6j",
        "outputId": "ce4bdce9-ba4c-457a-9eca-00091c843941"
      },
      "outputs": [
        {
          "output_type": "stream",
          "name": "stdout",
          "text": [
            "0.8692406004565547\n"
          ]
        }
      ],
      "source": [
        "# View the predictions\n",
        "test_predictions = best_model.transform(test)\n",
        "RMSE = evaluator.evaluate(test_predictions)\n",
        "print(RMSE)"
      ]
    },
    {
      "cell_type": "code",
      "execution_count": 28,
      "metadata": {
        "colab": {
          "base_uri": "https://localhost:8080/"
        },
        "id": "ARWmz75X1N6j",
        "outputId": "cdb215e8-7bb1-44c3-ceff-22ee7bf8c49f"
      },
      "outputs": [
        {
          "output_type": "stream",
          "name": "stdout",
          "text": [
            "+------+-------+------+----------+\n",
            "|userId|movieId|rating|prediction|\n",
            "+------+-------+------+----------+\n",
            "|   580|   1580|   4.0| 3.5069144|\n",
            "|   580|  44022|   3.5| 3.2097218|\n",
            "|   597|    471|   2.0|  4.158355|\n",
            "|   108|   1959|   5.0| 3.9203005|\n",
            "|   368|   2122|   2.0| 1.7667794|\n",
            "|   436|    471|   3.0| 3.6746042|\n",
            "|   587|   1580|   4.0| 3.8464408|\n",
            "|    27|   1580|   3.0| 3.3248534|\n",
            "|   606|   1580|   2.5| 3.2020993|\n",
            "|   606|  44022|   4.0|   2.77996|\n",
            "|    91|   2122|   4.0| 2.3799846|\n",
            "|   157|   3175|   2.0| 3.3328526|\n",
            "|   232|   1580|   3.5| 3.3819633|\n",
            "|   232|  44022|   3.0| 3.1371396|\n",
            "|   246|   1645|   4.0| 3.6704435|\n",
            "|   599|   2366|   3.0| 2.8995743|\n",
            "|   111|   1088|   3.0|  3.297554|\n",
            "|   111|   3175|   3.5| 2.9885864|\n",
            "|    47|   1580|   1.5| 2.7059627|\n",
            "|   140|   1580|   3.0| 3.3898695|\n",
            "+------+-------+------+----------+\n",
            "only showing top 20 rows\n",
            "\n"
          ]
        }
      ],
      "source": [
        "test_predictions.show()"
      ]
    },
    {
      "cell_type": "markdown",
      "metadata": {
        "id": "O1rYvVqi1N6j"
      },
      "source": [
        "## Make Recommendations"
      ]
    },
    {
      "cell_type": "code",
      "execution_count": 29,
      "metadata": {
        "colab": {
          "base_uri": "https://localhost:8080/"
        },
        "id": "zYPycso61N6j",
        "outputId": "c9c75d85-a9e4-483c-c853-af251a170a23"
      },
      "outputs": [
        {
          "output_type": "stream",
          "name": "stdout",
          "text": [
            "+------+--------------------+\n",
            "|userId|     recommendations|\n",
            "+------+--------------------+\n",
            "|     1|[{3379, 5.7526016...|\n",
            "|     2|[{131724, 4.79097...|\n",
            "|     3|[{70946, 4.915376...|\n",
            "|     4|[{3851, 4.8457103...|\n",
            "|     5|[{3379, 4.607003}...|\n",
            "|     6|[{3925, 4.8263626...|\n",
            "|     7|[{33649, 4.455137...|\n",
            "|     8|[{3379, 4.695211}...|\n",
            "|     9|[{5490, 4.8849015...|\n",
            "|    10|[{71579, 4.529316...|\n",
            "+------+--------------------+\n",
            "\n"
          ]
        }
      ],
      "source": [
        "# Generate n Recommendations for all users\n",
        "nrecommendations = best_model.recommendForAllUsers(10)\n",
        "nrecommendations.limit(10).show()"
      ]
    },
    {
      "cell_type": "code",
      "execution_count": 30,
      "metadata": {
        "colab": {
          "base_uri": "https://localhost:8080/"
        },
        "id": "ajOTvZrb1N6j",
        "outputId": "b880c07e-d9d2-4afc-84a4-5eda62d0811c"
      },
      "outputs": [
        {
          "output_type": "stream",
          "name": "stdout",
          "text": [
            "+------+-------+---------+\n",
            "|userId|movieId|   rating|\n",
            "+------+-------+---------+\n",
            "|     1|   3379|5.7526016|\n",
            "|     1|  33649| 5.581407|\n",
            "|     1|   5490| 5.531987|\n",
            "|     1|   5416| 5.400252|\n",
            "|     1|   5328| 5.400252|\n",
            "|     1|   3951| 5.400252|\n",
            "|     1| 171495|5.3989573|\n",
            "|     1|   5915|5.3693156|\n",
            "|     1|  78836|5.3661513|\n",
            "|     1|   6460| 5.336748|\n",
            "+------+-------+---------+\n",
            "\n"
          ]
        }
      ],
      "source": [
        "nrecommendations = nrecommendations\\\n",
        "    .withColumn(\"rec_exp\", explode(\"recommendations\"))\\\n",
        "    .select('userId', col(\"rec_exp.movieId\"), col(\"rec_exp.rating\"))\n",
        "\n",
        "nrecommendations.limit(10).show()"
      ]
    },
    {
      "cell_type": "markdown",
      "metadata": {
        "id": "Qqwm9oqt1N6j"
      },
      "source": [
        "## Do the recommendations make sense?\n",
        "Lets merge movie name and genres to teh recommendation matrix for interpretability."
      ]
    },
    {
      "cell_type": "code",
      "execution_count": 31,
      "metadata": {
        "colab": {
          "base_uri": "https://localhost:8080/"
        },
        "id": "s6EBs97e1N6r",
        "outputId": "a6f8a2de-e896-4cf2-f09c-469487d40013"
      },
      "outputs": [
        {
          "output_type": "stream",
          "name": "stdout",
          "text": [
            "+-------+------+---------+--------------------+--------------------+\n",
            "|movieId|userId|   rating|               title|              genres|\n",
            "+-------+------+---------+--------------------+--------------------+\n",
            "|  67618|   100| 5.116054|Strictly Sexual (...|Comedy|Drama|Romance|\n",
            "|  33649|   100|  4.99261|  Saving Face (2004)|Comedy|Drama|Romance|\n",
            "|   3379|   100|4.9540415| On the Beach (1959)|               Drama|\n",
            "| 184245|   100|4.9409566|De platte jungle ...|         Documentary|\n",
            "| 179135|   100|4.9409566|Blue Planet II (2...|         Documentary|\n",
            "| 138966|   100|4.9409566|Nasu: Summer in A...|           Animation|\n",
            "| 117531|   100|4.9409566|    Watermark (2014)|         Documentary|\n",
            "|  86237|   100|4.9409566|  Connections (1978)|         Documentary|\n",
            "|  84273|   100|4.9409566|Zeitgeist: Moving...|         Documentary|\n",
            "|  74226|   100|4.9409566|Dream of Light (a...|   Documentary|Drama|\n",
            "+-------+------+---------+--------------------+--------------------+\n",
            "\n"
          ]
        }
      ],
      "source": [
        "nrecommendations.join(movies, on='movieId').filter('userId = 100').show()"
      ]
    },
    {
      "cell_type": "code",
      "execution_count": 32,
      "metadata": {
        "colab": {
          "base_uri": "https://localhost:8080/"
        },
        "id": "uqb2H-1X1N6r",
        "outputId": "d36f344f-b299-4bef-8d64-6ec6c13edb57"
      },
      "outputs": [
        {
          "output_type": "stream",
          "name": "stdout",
          "text": [
            "+-------+------+------+--------------------+--------------------+\n",
            "|movieId|userId|rating|               title|              genres|\n",
            "+-------+------+------+--------------------+--------------------+\n",
            "|   1101|   100|   5.0|      Top Gun (1986)|      Action|Romance|\n",
            "|   1958|   100|   5.0|Terms of Endearme...|        Comedy|Drama|\n",
            "|   2423|   100|   5.0|Christmas Vacatio...|              Comedy|\n",
            "|   4041|   100|   5.0|Officer and a Gen...|       Drama|Romance|\n",
            "|   5620|   100|   5.0|Sweet Home Alabam...|      Comedy|Romance|\n",
            "|    368|   100|   4.5|     Maverick (1994)|Adventure|Comedy|...|\n",
            "|    934|   100|   4.5|Father of the Bri...|              Comedy|\n",
            "|    539|   100|   4.5|Sleepless in Seat...|Comedy|Drama|Romance|\n",
            "|     16|   100|   4.5|       Casino (1995)|         Crime|Drama|\n",
            "|    553|   100|   4.5|    Tombstone (1993)|Action|Drama|Western|\n",
            "+-------+------+------+--------------------+--------------------+\n",
            "\n"
          ]
        }
      ],
      "source": [
        "ratings.join(movies, on='movieId').filter('userId = 100').sort('rating', ascending=False).limit(10).show()"
      ]
    }
  ],
  "metadata": {
    "kernelspec": {
      "display_name": "Python 3",
      "language": "python",
      "name": "python3"
    },
    "language_info": {
      "codemirror_mode": {
        "name": "ipython",
        "version": 3
      },
      "file_extension": ".py",
      "mimetype": "text/x-python",
      "name": "python",
      "nbconvert_exporter": "python",
      "pygments_lexer": "ipython3",
      "version": "3.7.3"
    },
    "colab": {
      "provenance": []
    }
  },
  "nbformat": 4,
  "nbformat_minor": 0
}